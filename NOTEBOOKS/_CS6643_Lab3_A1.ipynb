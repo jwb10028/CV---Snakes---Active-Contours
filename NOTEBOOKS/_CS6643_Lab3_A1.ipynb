{
 "cells": [
  {
   "cell_type": "code",
   "execution_count": 1348,
   "metadata": {},
   "outputs": [],
   "source": [
    "# CODE HERE:\n",
    "import matplotlib.pyplot as plt \n",
    "import matplotlib.image as img\n",
    "import numpy as np\n",
    "import cv2"
   ]
  },
  {
   "cell_type": "code",
   "execution_count": 1349,
   "metadata": {},
   "outputs": [],
   "source": [
    "# reading in source image\n",
    "# READING IMAGES:\n",
    "in_img = cv2.imread('./ASSETS/fe.png', cv2.IMREAD_GRAYSCALE)\n",
    "r_img = cv2.resize(in_img, (256, 256))\n",
    "a_img = np.array(r_img)\n",
    "n_img = ((a_img - np.min(a_img)) * (1/(np.max(a_img) - np.min(a_img)) * 255)).astype('uint8')\n",
    "convolution_input = n_img.astype(float)"
   ]
  },
  {
   "cell_type": "code",
   "execution_count": 1350,
   "metadata": {},
   "outputs": [],
   "source": [
    "# FUNCTIONS 01:\n",
    "def convolution(image, filter):\n",
    "    # Convert image to float array if it's not already\n",
    "    image = [[float(val) for val in row] for row in image]\n",
    "    # Convert filter to float array if it's not already\n",
    "    filter = [[float(val) for val in row] for row in filter]\n",
    "    \n",
    "    # Determine the dimensions of the image and filter\n",
    "    image_height = len(image)\n",
    "    image_width = len(image[0])\n",
    "    filter_height = len(filter)\n",
    "    filter_width = len(filter[0])\n",
    "    \n",
    "    # Calculate padding\n",
    "    pad_height = filter_height // 2\n",
    "    pad_width = filter_width // 2\n",
    "    \n",
    "    # Pad the image with zeros on all sides\n",
    "    padded_image = [[0 for _ in range(image_width + 2 * pad_width)] for _ in range(image_height + 2 * pad_height)]\n",
    "    for i in range(image_height):\n",
    "        for j in range(image_width):\n",
    "            padded_image[i + pad_height][j + pad_width] = image[i][j]\n",
    "    \n",
    "    # Prepare the img_conv array\n",
    "    img_conv = [[0 for _ in range(image_width)] for _ in range(image_height)]\n",
    "    \n",
    "    # Apply the filter\n",
    "    for y in range(image_height):\n",
    "        for x in range(image_width):\n",
    "            # Extract the current region of interest\n",
    "            region = [[padded_image[i][j] for j in range(x, x + filter_width)] for i in range(y, y + filter_height)]\n",
    "            # Perform element-wise multiplication and sum the result\n",
    "            img_conv[y][x] = sum(sum(region[i][j] * filter[i][j] for j in range(filter_width)) for i in range(filter_height))\n",
    "    \n",
    "    return img_conv\n",
    "\n",
    "def manual_threshold(img_in, threshold):\n",
    "    \n",
    "    manual_thresh_img = []\n",
    "    \n",
    "    for row in img_in:\n",
    "        thresholded_row = []\n",
    "        for pixel in row:\n",
    "            thresholded_row.append(255 if pixel > threshold else 0)\n",
    "        manual_thresh_img.append(thresholded_row)\n",
    "\n",
    "    threshold_img = manual_thresh_img\n",
    "\n",
    "    return threshold_img\n",
    "\n",
    "def gaussian_kernel_x(l, sig):\n",
    "    \n",
    "    ax = np.linspace(-(l - 1) / 2., (l - 1) / 2., l)\n",
    "    gauss = np.exp(-0.5 * ax**2 / sig**2)\n",
    "    kernel = np.outer(gauss, 1)\n",
    "\n",
    "    return kernel / np.sum(kernel)\n",
    "\n",
    "def gaussian_kernel_y(l, sig):\n",
    "    \n",
    "    ax = np.linspace(-(l - 1) / 2., (l - 1) / 2., l)\n",
    "    gauss = np.exp(-0.5 * ax**2 / sig**2)\n",
    "    kernel = np.outer(1, gauss)\n",
    "\n",
    "    return kernel / np.sum(kernel)"
   ]
  },
  {
   "cell_type": "code",
   "execution_count": 1388,
   "metadata": {},
   "outputs": [],
   "source": [
    "# A1:\n",
    "# Derivative Kernels:\n",
    "sigma = 1.0\n",
    "filter_x = [[-1, 0, 1], [-2, 0, 2], [-1, 0, 1]]\n",
    "filter_y = [[1, 2, 1], [0, 0, 0], [-1, -2, -1]]\n",
    "kernel_1dx = gaussian_kernel_x(6*int(sigma)+1, sigma)\n",
    "kernel_1dy = gaussian_kernel_y(6*int(sigma)+1, sigma)"
   ]
  },
  {
   "cell_type": "code",
   "execution_count": 1389,
   "metadata": {},
   "outputs": [
    {
     "data": {
      "text/plain": [
       "True"
      ]
     },
     "execution_count": 1389,
     "metadata": {},
     "output_type": "execute_result"
    }
   ],
   "source": [
    "gaussian_image_x = convolution(convolution_input, kernel_1dx)\n",
    "gaussian_image = convolution(gaussian_image_x, kernel_1dy)\n",
    "gradient_x = convolution(gaussian_image, filter_x)\n",
    "gradient_y = convolution(gaussian_image, filter_y)\n",
    "grad_mag = np.sqrt(np.array(gradient_x)**2 + np.array(gradient_y)**2)\n",
    "cv2.imwrite('gradient_magnitude.png', grad_mag)\n"
   ]
  },
  {
   "cell_type": "code",
   "execution_count": 1390,
   "metadata": {},
   "outputs": [],
   "source": [
    "def invert_gradient_intensities(grad_magnitude):\n",
    "    \n",
    "    cv2.normalize(grad_magnitude, grad_magnitude, 0, 1, cv2.NORM_MINMAX)\n",
    "    \n",
    "    inverted_grad_magnitude = 1 - grad_magnitude\n",
    "    \n",
    "    inverted_grad_magnitude = (inverted_grad_magnitude * 255).astype(np.uint8)\n",
    "    \n",
    "    return inverted_grad_magnitude"
   ]
  },
  {
   "cell_type": "code",
   "execution_count": 1391,
   "metadata": {},
   "outputs": [
    {
     "data": {
      "text/plain": [
       "True"
      ]
     },
     "execution_count": 1391,
     "metadata": {},
     "output_type": "execute_result"
    }
   ],
   "source": [
    "inv_mag = invert_gradient_intensities(grad_mag)\n",
    "\n",
    "cv2.imwrite('inv_gradient_magnitude.png', inv_mag)"
   ]
  },
  {
   "cell_type": "code",
   "execution_count": 1392,
   "metadata": {},
   "outputs": [],
   "source": [
    "# FUNCTIONS 02:\n",
    "def draw_contour(image, contour):\n",
    "    result_img = np.zeros_like(image)\n",
    "    res_img = cv2.polylines(result_img, [contour], isClosed=True, color=(255, 255, 255), thickness=2)\n",
    "    return res_img\n",
    "\n",
    "def overlay_images(image1, image2, alpha=.50):\n",
    "    if not (0 <= alpha <= 1):\n",
    "        raise ValueError(\"Alpha should be a float between 0 and 1.\")\n",
    "    \n",
    "    # Calculate beta (the weight of the second image)\n",
    "    beta = 1.0 - alpha\n",
    "    \n",
    "    blended_image = cv2.addWeighted(image1, alpha, image2, beta, 0)\n",
    "    return blended_image\n"
   ]
  },
  {
   "cell_type": "code",
   "execution_count": 1393,
   "metadata": {},
   "outputs": [],
   "source": [
    "points = []\n",
    "\n",
    "def click_event(event, x, y, flags, param):\n",
    "    if event == cv2.EVENT_LBUTTONDOWN:\n",
    "        # Append the new point (x, y)\n",
    "        points.append((x, y))\n",
    "        \n",
    "        # Draw a small circle at the click point\n",
    "        cv2.circle(img, (x, y), 3, (255, 255, 255), -1)\n",
    "        \n",
    "        # Draw the polygon if there are at least two points\n",
    "        if len(points) >= 2:\n",
    "            cv2.polylines(img, [np.array(points)], isClosed=False, color=(255, 255, 255), thickness=2)\n",
    "        \n",
    "        cv2.imshow('image', img)\n",
    "\n",
    "# Load an image\n",
    "img = grad_mag\n",
    "if img is None:\n",
    "    print(\"Error: Image not found.\")\n",
    "else:\n",
    "    # Create a window\n",
    "    cv2.namedWindow('image')\n",
    "    cv2.setMouseCallback('image', click_event)\n",
    "\n",
    "    # Display the image\n",
    "    cv2.imshow('image', img)\n",
    "\n",
    "    # Wait until any key is pressed\n",
    "    cv2.waitKey(0)\n",
    "    cv2.destroyAllWindows()"
   ]
  },
  {
   "cell_type": "code",
   "execution_count": 1394,
   "metadata": {},
   "outputs": [
    {
     "data": {
      "text/plain": [
       "True"
      ]
     },
     "execution_count": 1394,
     "metadata": {},
     "output_type": "execute_result"
    }
   ],
   "source": [
    "contour = np.array(points ,dtype=np.int32)\n",
    "contour_img = overlay_images(draw_contour(grad_mag, contour), convolution_input)\n",
    "\n",
    "\n",
    "cv2.imwrite('init_contour.png', contour_img)"
   ]
  },
  {
   "cell_type": "code",
   "execution_count": 1395,
   "metadata": {},
   "outputs": [],
   "source": [
    "contour_image = contour_img\n",
    "init_contour = contour"
   ]
  },
  {
   "cell_type": "code",
   "execution_count": 1432,
   "metadata": {},
   "outputs": [],
   "source": [
    "def snake_algorithm(gradient_image, initial_contour, iterations, alpha=0.1, beta=0.61, gamma=.20, energy_threshold=4.0):\n",
    "    inverted_gradient = 255 - gradient_image\n",
    "\n",
    "    snake = initial_contour.astype(np.float32)\n",
    "\n",
    "    gray_image = cv2.cvtColor(inverted_gradient, cv2.COLOR_BGR2GRAY) if len(inverted_gradient.shape) == 3 else inverted_gradient\n",
    "\n",
    "    gray_image_8bit = cv2.convertScaleAbs(gray_image)\n",
    "\n",
    "    external_force = cv2.distanceTransform(gray_image_8bit, cv2.DIST_L2, 5)\n",
    "    internal_energy = 0\n",
    "    external_energy = 0\n",
    "\n",
    "    # Iteratively update the snake\n",
    "    for i in range(iterations):\n",
    "\n",
    "        \n",
    "        # Internal force (continuity and curvature)\n",
    "        for i in range(snake.shape[0]):\n",
    "            prev_point = snake[i - 1 if i - 1 >= 0 else -1]\n",
    "            next_point = snake[(i + 1) % snake.shape[0]]\n",
    "\n",
    "            continuity_force = alpha * (prev_point - snake[i])\n",
    "            curvature_force = beta * (prev_point - 2 * snake[i] + next_point)\n",
    "\n",
    "            snake[i] += gamma * (continuity_force + curvature_force)\n",
    "\n",
    "            \n",
    "\n",
    "        # External force (image gradient)\n",
    "        for i in range(snake.shape[0]):\n",
    "            point = np.round(snake[i]).astype(int)\n",
    "           \n",
    "            point[0] = np.clip(point[0], 0, external_force.shape[1] - 1)\n",
    "            point[1] = np.clip(point[1], 0, external_force.shape[0] - 1)\n",
    "\n",
    "            # Apply the external force\n",
    "            gradient = np.array(np.gradient(external_force))\n",
    "            external_force_at_point = gradient[:, point[1], point[0]]\n",
    "            snake[i] += gamma * external_force_at_point\n",
    "\n",
    "        internal_energy += continuity_force**2 + curvature_force**2    \n",
    "        external_energy += np.linalg.norm(external_force_at_point)**2\n",
    "        \n",
    "          \n",
    "    snake = snake.astype(np.int32)\n",
    "    \n",
    "\n",
    "    return snake\n",
    "\n"
   ]
  },
  {
   "cell_type": "code",
   "execution_count": 1433,
   "metadata": {},
   "outputs": [],
   "source": [
    "snake_contour_01 = snake_algorithm(inv_mag, init_contour, 5)\n",
    "snake_contour_02 = snake_algorithm(inv_mag, init_contour, 10)\n",
    "snake_contour_03 = snake_algorithm(inv_mag, init_contour, 15)\n",
    "snake_contour_04 = snake_algorithm(inv_mag, init_contour, 20)\n",
    "snake_contour_05 = snake_algorithm(inv_mag, init_contour, 25)\n",
    "snake_contour_06 = snake_algorithm(inv_mag, init_contour, 30)\n",
    "\n"
   ]
  },
  {
   "cell_type": "code",
   "execution_count": 1434,
   "metadata": {},
   "outputs": [
    {
     "data": {
      "text/plain": [
       "True"
      ]
     },
     "execution_count": 1434,
     "metadata": {},
     "output_type": "execute_result"
    }
   ],
   "source": [
    "snake_contour_img1 = overlay_images(draw_contour(grad_mag, snake_contour_01), convolution_input)\n",
    "snake_contour_img2 = overlay_images(draw_contour(grad_mag, snake_contour_02), convolution_input)\n",
    "snake_contour_img3 = overlay_images(draw_contour(grad_mag, snake_contour_03), convolution_input)\n",
    "snake_contour_img4 = overlay_images(draw_contour(grad_mag, snake_contour_04), convolution_input)\n",
    "snake_contour_img5 = overlay_images(draw_contour(grad_mag, snake_contour_05), convolution_input)\n",
    "snake_contour_img6 = overlay_images(draw_contour(grad_mag, snake_contour_06), convolution_input)\n",
    "\n",
    "cv2.imwrite('step1.png', snake_contour_img1)\n",
    "cv2.imwrite('step2.png', snake_contour_img2)\n",
    "cv2.imwrite('step3.png', snake_contour_img3)\n",
    "cv2.imwrite('step4.png', snake_contour_img4)\n",
    "cv2.imwrite('step5.png', snake_contour_img5)\n",
    "cv2.imwrite('step6.png', snake_contour_img6)"
   ]
  }
 ],
 "metadata": {
  "kernelspec": {
   "display_name": "Python 3",
   "language": "python",
   "name": "python3"
  },
  "language_info": {
   "codemirror_mode": {
    "name": "ipython",
    "version": 3
   },
   "file_extension": ".py",
   "mimetype": "text/x-python",
   "name": "python",
   "nbconvert_exporter": "python",
   "pygments_lexer": "ipython3",
   "version": "3.10.6"
  }
 },
 "nbformat": 4,
 "nbformat_minor": 2
}
